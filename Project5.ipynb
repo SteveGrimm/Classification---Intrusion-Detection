{
  "nbformat": 4,
  "nbformat_minor": 0,
  "metadata": {
    "colab": {
      "name": "Project5.ipynb",
      "provenance": [],
      "collapsed_sections": [
        "pVvDcghB5nm-",
        "LpLus6Vr6OW4"
      ]
    },
    "kernelspec": {
      "name": "python3",
      "display_name": "Python 3"
    }
  },
  "cells": [
    {
      "cell_type": "code",
      "metadata": {
        "id": "tPvAdjTSGTFg",
        "colab_type": "code",
        "colab": {}
      },
      "source": [
        "#Basic libraries\n",
        "import pandas as pd\n",
        "import numpy as np\n",
        "import matplotlib.pyplot as plt"
      ],
      "execution_count": 0,
      "outputs": []
    },
    {
      "cell_type": "code",
      "metadata": {
        "id": "I3eFmWRdHoTU",
        "colab_type": "code",
        "colab": {}
      },
      "source": [
        "#Model libraries\n",
        "from sklearn.linear_model import LogisticRegression\n",
        "from sklearn.model_selection import train_test_split\n",
        "from sklearn.metrics import classification_report, recall_score"
      ],
      "execution_count": 0,
      "outputs": []
    },
    {
      "cell_type": "markdown",
      "metadata": {
        "id": "DAS9QUL2MdZa",
        "colab_type": "text"
      },
      "source": [
        "#Data Import"
      ]
    },
    {
      "cell_type": "code",
      "metadata": {
        "id": "5I-fU0n6GjzJ",
        "colab_type": "code",
        "outputId": "d608ca56-7a12-4f13-a770-52f676fa87b7",
        "colab": {
          "base_uri": "https://localhost:8080/",
          "height": 35
        }
      },
      "source": [
        "from google.colab import drive\n",
        "drive.mount('/content/Drive')"
      ],
      "execution_count": 0,
      "outputs": [
        {
          "output_type": "stream",
          "text": [
            "Drive already mounted at /content/Drive; to attempt to forcibly remount, call drive.mount(\"/content/Drive\", force_remount=True).\n"
          ],
          "name": "stdout"
        }
      ]
    },
    {
      "cell_type": "code",
      "metadata": {
        "id": "hMkJ-uMmGl6_",
        "colab_type": "code",
        "colab": {}
      },
      "source": [
        "data1 = pd.read_csv('/content/Drive/My Drive/Colab Notebooks/1000ml/Unit2/Project5/intrusion_detection.csv')\n",
        "data = pd.read_csv('/content/Drive/My Drive/Colab Notebooks/1000ml/Unit2/Project5/intrusion_detection_notonehot.csv')"
      ],
      "execution_count": 0,
      "outputs": []
    },
    {
      "cell_type": "code",
      "metadata": {
        "id": "_wSAoiCuHHzD",
        "colab_type": "code",
        "outputId": "be004e5b-9a2a-4d37-b8db-1b7b4b32b64e",
        "colab": {
          "base_uri": "https://localhost:8080/",
          "height": 52
        }
      },
      "source": [
        "print(f'Columns in intrusion_detection_notonehot.csv:  {data.shape[1]}')\n",
        "print(f'Matching columns in both data sets:  {sum(data.columns.isin(data1.columns))}')"
      ],
      "execution_count": 0,
      "outputs": [
        {
          "output_type": "stream",
          "text": [
            "Columns in intrusion_detection_notonehot.csv:  44\n",
            "Matching columns in both data sets:  40\n"
          ],
          "name": "stdout"
        }
      ]
    },
    {
      "cell_type": "markdown",
      "metadata": {
        "id": "HQuAXtkTMhDb",
        "colab_type": "text"
      },
      "source": [
        "#Data Cleaning"
      ]
    },
    {
      "cell_type": "code",
      "metadata": {
        "id": "_bnKRUfDLi15",
        "colab_type": "code",
        "outputId": "9c699d08-cc94-4384-e0bd-c0c02a6c7a96",
        "colab": {
          "base_uri": "https://localhost:8080/",
          "height": 35
        }
      },
      "source": [
        "print(f'Amount of NaN-Values in the entire data set: {sum(data.isnull().sum())}')"
      ],
      "execution_count": 0,
      "outputs": [
        {
          "output_type": "stream",
          "text": [
            "Amount of NaN-Values in the entire data set: 0\n"
          ],
          "name": "stdout"
        }
      ]
    },
    {
      "cell_type": "code",
      "metadata": {
        "id": "RYnFMEanLnEk",
        "colab_type": "code",
        "outputId": "dca7983e-8ec1-454b-f3eb-c8afd4099bee",
        "colab": {
          "base_uri": "https://localhost:8080/",
          "height": 87
        }
      },
      "source": [
        "data.dtypes.value_counts()"
      ],
      "execution_count": 0,
      "outputs": [
        {
          "output_type": "execute_result",
          "data": {
            "text/plain": [
              "float64    38\n",
              "object      4\n",
              "int64       2\n",
              "dtype: int64"
            ]
          },
          "metadata": {
            "tags": []
          },
          "execution_count": 219
        }
      ]
    },
    {
      "cell_type": "markdown",
      "metadata": {
        "id": "ovHiH8zjL48L",
        "colab_type": "text"
      },
      "source": [
        "#EDA"
      ]
    },
    {
      "cell_type": "markdown",
      "metadata": {
        "id": "pVvDcghB5nm-",
        "colab_type": "text"
      },
      "source": [
        "## Variable selection\n",
        "\n",
        "* `num_outbounds_cmds`,`land`,`Unnamed: 0`, `id` are dropped\n",
        "* We will select `outlier@{no,yes}` as the target variable"
      ]
    },
    {
      "cell_type": "code",
      "metadata": {
        "id": "mGBaw_mGi4Pd",
        "colab_type": "code",
        "outputId": "8b472023-b2f3-4807-9ed8-d62fadd97eb0",
        "colab": {
          "base_uri": "https://localhost:8080/",
          "height": 35
        }
      },
      "source": [
        "data.shape"
      ],
      "execution_count": 0,
      "outputs": [
        {
          "output_type": "execute_result",
          "data": {
            "text/plain": [
              "(48113, 44)"
            ]
          },
          "metadata": {
            "tags": []
          },
          "execution_count": 220
        }
      ]
    },
    {
      "cell_type": "code",
      "metadata": {
        "id": "3q8xzufEip-U",
        "colab_type": "code",
        "outputId": "e45723e1-0448-439b-dd85-0e5bb6c47216",
        "colab": {
          "base_uri": "https://localhost:8080/",
          "height": 797
        }
      },
      "source": [
        "data.nunique()"
      ],
      "execution_count": 0,
      "outputs": [
        {
          "output_type": "execute_result",
          "data": {
            "text/plain": [
              "Unnamed: 0                     48113\n",
              "duration                         238\n",
              "src_bytes                       2375\n",
              "dst_bytes                       9169\n",
              "wrong_fragment                     3\n",
              "urgent                             3\n",
              "hot                               18\n",
              "num_failed_logins                  3\n",
              "logged_in                          2\n",
              "num_compromissed                  18\n",
              "root_shell                         2\n",
              "su_attempted                       3\n",
              "num_root                          15\n",
              "num_file_creations                12\n",
              "num_shells                         4\n",
              "num_access_files                   5\n",
              "num_outbounds_cmds                 1\n",
              "is_host_login                      2\n",
              "is_guest_login                     2\n",
              "count                            335\n",
              "srv_count                        341\n",
              "serror_rate                       21\n",
              "srv_serror_rate                   29\n",
              "rerror_rate                        6\n",
              "srv_rerror_rate                   32\n",
              "same_srv_rate                     66\n",
              "diff_srv_rate                     83\n",
              "srv_diff_host_rate                62\n",
              "dst_host_count                   256\n",
              "dst_host_srv_count               256\n",
              "dst_host_same_srv_rate           101\n",
              "dst_host_diff_srv_rate           100\n",
              "dst_host_same_src_port_rate      101\n",
              "dst_host_srv_diff_host_rate       53\n",
              "dst_host_serror_rate              60\n",
              "dst_host_srv_serror_rate          32\n",
              "dst_host_rerror_rate              96\n",
              "dst_host_srv_rerror_rate          50\n",
              "id                             48113\n",
              "outlier@{no,yes}                   2\n",
              "protocol_type                      3\n",
              "service                           29\n",
              "flag                               9\n",
              "land                               1\n",
              "dtype: int64"
            ]
          },
          "metadata": {
            "tags": []
          },
          "execution_count": 221
        }
      ]
    },
    {
      "cell_type": "code",
      "metadata": {
        "id": "idMjH0M93XwQ",
        "colab_type": "code",
        "colab": {}
      },
      "source": [
        "def n_counts_per(dataframe,unique_values = 1):\n",
        "  for column in dataframe.columns[dataframe.nunique().values == unique_values]:\n",
        "    print(dataframe[column].value_counts())\n",
        "    print('----')"
      ],
      "execution_count": 0,
      "outputs": []
    },
    {
      "cell_type": "code",
      "metadata": {
        "id": "R8Id2OQE4DwJ",
        "colab_type": "code",
        "outputId": "23edccfc-8e7c-4daf-fd80-d2233f50ad95",
        "colab": {
          "base_uri": "https://localhost:8080/",
          "height": 121
        }
      },
      "source": [
        "n_counts_per(data,1)"
      ],
      "execution_count": 0,
      "outputs": [
        {
          "output_type": "stream",
          "text": [
            "0.0    48113\n",
            "Name: num_outbounds_cmds, dtype: int64\n",
            "----\n",
            "0    48113\n",
            "Name: land, dtype: int64\n",
            "----\n"
          ],
          "name": "stdout"
        }
      ]
    },
    {
      "cell_type": "code",
      "metadata": {
        "id": "Od43cqi2ljLr",
        "colab_type": "code",
        "outputId": "3826e331-7c61-4d55-9979-5d50414b9bbf",
        "colab": {
          "base_uri": "https://localhost:8080/",
          "height": 279
        }
      },
      "source": [
        "plt.scatter(data['Unnamed: 0'], data['id'])\n",
        "plt.xlabel('Unnamed: 0')\n",
        "plt.ylabel('id')\n",
        "plt.show()"
      ],
      "execution_count": 0,
      "outputs": [
        {
          "output_type": "display_data",
          "data": {
            "image/png": "[encoded data removed]",
            "text/plain": [
              "<Figure size 432x288 with 1 Axes>"
            ]
          },
          "metadata": {
            "tags": [],
            "needs_background": "light"
          }
        }
      ]
    },
    {
      "cell_type": "markdown",
      "metadata": {
        "id": "8nnyCqaPj4LB",
        "colab_type": "text"
      },
      "source": [
        "* `land` and `num_outbounds_cmds` only have one unique value. Therefore not very useful for our analysis.\n",
        "* `Unnamed: 0` and `id` are just unique identifiers per record, that both increase in value. These aren't useful for classication either."
      ]
    },
    {
      "cell_type": "code",
      "metadata": {
        "id": "HH5S_RfZjq-m",
        "colab_type": "code",
        "outputId": "e197c7fe-2a4d-428e-f399-6f10c4ce23c1",
        "colab": {
          "base_uri": "https://localhost:8080/",
          "height": 364
        }
      },
      "source": [
        "n_counts_per(data,2)"
      ],
      "execution_count": 0,
      "outputs": [
        {
          "output_type": "stream",
          "text": [
            "1.0    42475\n",
            "0.0     5638\n",
            "Name: logged_in, dtype: int64\n",
            "----\n",
            "0.0    48068\n",
            "1.0       45\n",
            "Name: root_shell, dtype: int64\n",
            "----\n",
            "0.0    48109\n",
            "1.0        4\n",
            "Name: is_host_login, dtype: int64\n",
            "----\n",
            "0.0    47993\n",
            "1.0      120\n",
            "Name: is_guest_login, dtype: int64\n",
            "----\n",
            "no     47913\n",
            "yes      200\n",
            "Name: outlier@{no,yes}, dtype: int64\n",
            "----\n"
          ],
          "name": "stdout"
        }
      ]
    },
    {
      "cell_type": "markdown",
      "metadata": {
        "id": "4H5jpebGitrU",
        "colab_type": "text"
      },
      "source": [
        "* We will select `outlier@{no,yes}` as the target variable (and change (yes,no) to (1,0)."
      ]
    },
    {
      "cell_type": "code",
      "metadata": {
        "id": "75MG8BSc44bL",
        "colab_type": "code",
        "colab": {}
      },
      "source": [
        "#drop columns with 1 unique value or all unique values\n",
        "data = data.drop(columns= ['num_outbounds_cmds','land','Unnamed: 0', 'id'],axis=1)\n",
        "#change (yes,no) in target variable to (1,0)\n",
        "data['outlier@{no,yes}'] = np.where(data['outlier@{no,yes}'] == 'yes', 1, 0)\n",
        "#slice numerical, categorical and target variables\n",
        "cat_var = ['protocol_type','service','flag']\n",
        "target = ['outlier@{no,yes}']\n",
        "num_var = data.drop(columns= cat_var + target, axis=1).columns"
      ],
      "execution_count": 0,
      "outputs": []
    },
    {
      "cell_type": "markdown",
      "metadata": {
        "id": "rRLjunzH5Eoj",
        "colab_type": "text"
      },
      "source": [
        "## Exploration"
      ]
    },
    {
      "cell_type": "code",
      "metadata": {
        "id": "lPskdzLtGhBa",
        "colab_type": "code",
        "colab": {}
      },
      "source": [
        ""
      ],
      "execution_count": 0,
      "outputs": []
    },
    {
      "cell_type": "markdown",
      "metadata": {
        "id": "G_oOjiKn6M50",
        "colab_type": "text"
      },
      "source": [
        "#Model"
      ]
    },
    {
      "cell_type": "markdown",
      "metadata": {
        "id": "LpLus6Vr6OW4",
        "colab_type": "text"
      },
      "source": [
        "##Null Model (Simple Logistic Regression)\n",
        "* Recall Score:\n",
        "    * Train 0.40540540540540543\n",
        "    * Validation 0.40384615384615385"
      ]
    },
    {
      "cell_type": "code",
      "metadata": {
        "id": "UfZzXUQo6Tej",
        "colab_type": "code",
        "outputId": "20b8a3bc-dc6a-4e3f-b6b1-5935a0e2b309",
        "colab": {
          "base_uri": "https://localhost:8080/",
          "height": 159
        }
      },
      "source": [
        "#set the variable\n",
        "x = data[num_var]\n",
        "x = pd.concat([x,pd.get_dummies(data[cat_var],drop_first=True)],axis=1)\n",
        "y = data[target]\n",
        "\n",
        "x_train, x_val, y_train, y_val = train_test_split(x,y,\n",
        "                                                  test_size = 0.2,\n",
        "                                                  random_state = 42)\n",
        "\n",
        "#set the model\n",
        "#clf stands for classifier\n",
        "null = LogisticRegression(max_iter=1000)\n",
        "\n",
        "#fit the model\n",
        "null.fit(x_train,y_train)"
      ],
      "execution_count": 0,
      "outputs": [
        {
          "output_type": "stream",
          "text": [
            "/usr/local/lib/python3.6/dist-packages/sklearn/utils/validation.py:760: DataConversionWarning: A column-vector y was passed when a 1d array was expected. Please change the shape of y to (n_samples, ), for example using ravel().\n",
            "  y = column_or_1d(y, warn=True)\n"
          ],
          "name": "stderr"
        },
        {
          "output_type": "execute_result",
          "data": {
            "text/plain": [
              "LogisticRegression(C=1.0, class_weight=None, dual=False, fit_intercept=True,\n",
              "                   intercept_scaling=1, l1_ratio=None, max_iter=1000,\n",
              "                   multi_class='auto', n_jobs=None, penalty='l2',\n",
              "                   random_state=None, solver='lbfgs', tol=0.0001, verbose=0,\n",
              "                   warm_start=False)"
            ]
          },
          "metadata": {
            "tags": []
          },
          "execution_count": 227
        }
      ]
    },
    {
      "cell_type": "code",
      "metadata": {
        "id": "HQnPeXGkHXkl",
        "colab_type": "code",
        "outputId": "f7a64bc3-c7da-4e9a-9e6b-5cf0a14e4bff",
        "colab": {
          "base_uri": "https://localhost:8080/",
          "height": 173
        }
      },
      "source": [
        "print(classification_report(y_train,null.predict(x_train)))"
      ],
      "execution_count": 0,
      "outputs": [
        {
          "output_type": "stream",
          "text": [
            "              precision    recall  f1-score   support\n",
            "\n",
            "           0       1.00      1.00      1.00     38342\n",
            "           1       0.98      0.41      0.57       148\n",
            "\n",
            "    accuracy                           1.00     38490\n",
            "   macro avg       0.99      0.70      0.79     38490\n",
            "weighted avg       1.00      1.00      1.00     38490\n",
            "\n"
          ],
          "name": "stdout"
        }
      ]
    },
    {
      "cell_type": "code",
      "metadata": {
        "id": "s1tNjBG1IXDx",
        "colab_type": "code",
        "outputId": "42586433-4773-4ecb-c71d-2d336a275269",
        "colab": {
          "base_uri": "https://localhost:8080/",
          "height": 173
        }
      },
      "source": [
        "print(classification_report(y_val,null.predict(x_val)))"
      ],
      "execution_count": 0,
      "outputs": [
        {
          "output_type": "stream",
          "text": [
            "              precision    recall  f1-score   support\n",
            "\n",
            "           0       1.00      1.00      1.00      9571\n",
            "           1       1.00      0.40      0.58        52\n",
            "\n",
            "    accuracy                           1.00      9623\n",
            "   macro avg       1.00      0.70      0.79      9623\n",
            "weighted avg       1.00      1.00      1.00      9623\n",
            "\n"
          ],
          "name": "stdout"
        }
      ]
    },
    {
      "cell_type": "code",
      "metadata": {
        "id": "W2u_C8tZIeST",
        "colab_type": "code",
        "outputId": "32ff6fdf-efda-4675-9037-809c8576f9c7",
        "colab": {
          "base_uri": "https://localhost:8080/",
          "height": 52
        }
      },
      "source": [
        "print(recall_score(y_train,null.predict(x_train)))\n",
        "print(recall_score(y_val,null.predict(x_val)))"
      ],
      "execution_count": 0,
      "outputs": [
        {
          "output_type": "stream",
          "text": [
            "0.40540540540540543\n",
            "0.40384615384615385\n"
          ],
          "name": "stdout"
        }
      ]
    },
    {
      "cell_type": "markdown",
      "metadata": {
        "id": "8BSGBgCrLzFD",
        "colab_type": "text"
      },
      "source": [
        "## Logistic Regression"
      ]
    },
    {
      "cell_type": "code",
      "metadata": {
        "id": "wR2iAYTbxv47",
        "colab_type": "code",
        "colab": {}
      },
      "source": [
        ""
      ],
      "execution_count": 0,
      "outputs": []
    }
  ]
}